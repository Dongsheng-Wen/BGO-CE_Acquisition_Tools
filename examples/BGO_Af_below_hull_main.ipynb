{
 "cells": [
  {
   "cell_type": "code",
   "execution_count": 1,
   "metadata": {},
   "outputs": [],
   "source": [
    "import numpy as np\n",
    "import pandas as pd\n",
    "\n",
    "import scipy.stats as stats\n",
    "import pickle\n",
    "import GPy\n",
    "import GPyOpt\n",
    "from GPyOpt.methods import BayesianOptimization\n",
    "import seaborn as sns\n",
    "\n",
    "import matplotlib.pyplot as plt\n",
    "from matplotlib import rc, font_manager\n",
    "ticks_font = font_manager.FontProperties(family='serif', style='normal',\n",
    "                                         size=24, weight='normal', stretch='normal')\n",
    "from scipy.spatial import ConvexHull\n",
    "from GPyOpt.util.general import get_quantiles\n",
    "import plotly.graph_objs as go\n",
    "%matplotlib inline\n",
    "import plotly.express as px\n",
    "from sklearn.metrics import mean_squared_error\n",
    "import json\n",
    "import random"
   ]
  },
  {
   "cell_type": "code",
   "execution_count": 2,
   "metadata": {},
   "outputs": [],
   "source": [
    "# my own tools\n",
    "from bgotools.suggest_experiments import suggest_next \n",
    "from bgotools.my_acquisitions import EI_below_hull\n",
    "from bgotools.my_hull_funcs import my_hull_funcs \n",
    "from bgotools.set_pool import set_pool\n",
    "from bgotools.my_acquisitions import EI_hull_area"
   ]
  },
  {
   "cell_type": "code",
   "execution_count": 3,
   "metadata": {},
   "outputs": [],
   "source": [
    "# for training data\n",
    "def f(x):\n",
    "    try:\n",
    "        return np.float(x)\n",
    "    except:\n",
    "        return np.nan"
   ]
  },
  {
   "cell_type": "code",
   "execution_count": 4,
   "metadata": {},
   "outputs": [],
   "source": [
    "# read the query data formation_energy, clex, corr\n",
    "data_save = pd.read_csv('./BGO_EI_data',sep='\\s+')\n",
    "\n",
    "\n"
   ]
  },
  {
   "cell_type": "code",
   "execution_count": null,
   "metadata": {},
   "outputs": [],
   "source": []
  },
  {
   "cell_type": "code",
   "execution_count": 5,
   "metadata": {},
   "outputs": [],
   "source": [
    "\n",
    "data = data_save"
   ]
  },
  {
   "cell_type": "code",
   "execution_count": null,
   "metadata": {},
   "outputs": [],
   "source": []
  },
  {
   "cell_type": "code",
   "execution_count": 6,
   "metadata": {},
   "outputs": [
    {
     "data": {
      "text/plain": [
       "58165"
      ]
     },
     "execution_count": 6,
     "metadata": {},
     "output_type": "execute_result"
    }
   ],
   "source": [
    "# process data \n",
    "data['clex()'] = data['clex()'].apply(f)\n",
    "calculated_data = data['clex()'].notnull()\n",
    "# calculated data\n",
    "X_data_all = data[calculated_data]['comp(a)']\n",
    "Y_data_all = data[calculated_data]['clex()']\n",
    "\n",
    "len(X_data_all)#number of calculated data"
   ]
  },
  {
   "cell_type": "code",
   "execution_count": 7,
   "metadata": {},
   "outputs": [
    {
     "data": {
      "text/html": [
       "<div>\n",
       "<style scoped>\n",
       "    .dataframe tbody tr th:only-of-type {\n",
       "        vertical-align: middle;\n",
       "    }\n",
       "\n",
       "    .dataframe tbody tr th {\n",
       "        vertical-align: top;\n",
       "    }\n",
       "\n",
       "    .dataframe thead th {\n",
       "        text-align: right;\n",
       "    }\n",
       "</style>\n",
       "<table border=\"1\" class=\"dataframe\">\n",
       "  <thead>\n",
       "    <tr style=\"text-align: right;\">\n",
       "      <th></th>\n",
       "      <th>configname</th>\n",
       "      <th>selected</th>\n",
       "      <th>comp(a)</th>\n",
       "      <th>formation_energy</th>\n",
       "      <th>clex()</th>\n",
       "      <th>corr(0)</th>\n",
       "      <th>corr(1)</th>\n",
       "      <th>corr(2)</th>\n",
       "      <th>corr(3)</th>\n",
       "      <th>corr(4)</th>\n",
       "      <th>...</th>\n",
       "      <th>corr(238)</th>\n",
       "      <th>corr(239)</th>\n",
       "      <th>corr(240)</th>\n",
       "      <th>corr(241)</th>\n",
       "      <th>corr(242)</th>\n",
       "      <th>corr(243)</th>\n",
       "      <th>corr(244)</th>\n",
       "      <th>corr(245)</th>\n",
       "      <th>corr(246)</th>\n",
       "      <th>corr(247)</th>\n",
       "    </tr>\n",
       "  </thead>\n",
       "  <tbody>\n",
       "    <tr>\n",
       "      <th>0</th>\n",
       "      <td>SCEL1_1_1_1_0_0_0/0</td>\n",
       "      <td>1</td>\n",
       "      <td>1.000000</td>\n",
       "      <td>0.00000000</td>\n",
       "      <td>0.000000</td>\n",
       "      <td>1.0</td>\n",
       "      <td>0.000000</td>\n",
       "      <td>0.000000</td>\n",
       "      <td>0.000000</td>\n",
       "      <td>0.000000</td>\n",
       "      <td>...</td>\n",
       "      <td>0.000000</td>\n",
       "      <td>0.000000</td>\n",
       "      <td>0.000000</td>\n",
       "      <td>0.000000</td>\n",
       "      <td>0.000000</td>\n",
       "      <td>0.000000</td>\n",
       "      <td>0.0</td>\n",
       "      <td>0.000000</td>\n",
       "      <td>0.000000</td>\n",
       "      <td>0.000000</td>\n",
       "    </tr>\n",
       "    <tr>\n",
       "      <th>1</th>\n",
       "      <td>SCEL1_1_1_1_0_0_0/1</td>\n",
       "      <td>1</td>\n",
       "      <td>0.875000</td>\n",
       "      <td>-0.03401745</td>\n",
       "      <td>-0.035452</td>\n",
       "      <td>1.0</td>\n",
       "      <td>0.000000</td>\n",
       "      <td>0.000000</td>\n",
       "      <td>0.000000</td>\n",
       "      <td>0.500000</td>\n",
       "      <td>...</td>\n",
       "      <td>0.000000</td>\n",
       "      <td>0.000000</td>\n",
       "      <td>0.000000</td>\n",
       "      <td>0.000000</td>\n",
       "      <td>0.000000</td>\n",
       "      <td>0.000000</td>\n",
       "      <td>0.0</td>\n",
       "      <td>0.000000</td>\n",
       "      <td>0.000000</td>\n",
       "      <td>0.000000</td>\n",
       "    </tr>\n",
       "    <tr>\n",
       "      <th>2</th>\n",
       "      <td>SCEL1_1_1_1_0_0_0/10</td>\n",
       "      <td>1</td>\n",
       "      <td>0.625000</td>\n",
       "      <td>-0.08774064</td>\n",
       "      <td>-0.085923</td>\n",
       "      <td>1.0</td>\n",
       "      <td>0.500000</td>\n",
       "      <td>0.500000</td>\n",
       "      <td>0.000000</td>\n",
       "      <td>0.500000</td>\n",
       "      <td>...</td>\n",
       "      <td>0.500000</td>\n",
       "      <td>0.000000</td>\n",
       "      <td>0.000000</td>\n",
       "      <td>0.000000</td>\n",
       "      <td>0.000000</td>\n",
       "      <td>0.000000</td>\n",
       "      <td>0.0</td>\n",
       "      <td>0.000000</td>\n",
       "      <td>0.000000</td>\n",
       "      <td>0.000000</td>\n",
       "    </tr>\n",
       "    <tr>\n",
       "      <th>3</th>\n",
       "      <td>SCEL1_1_1_1_0_0_0/100</td>\n",
       "      <td>1</td>\n",
       "      <td>0.625000</td>\n",
       "      <td>-0.06716164</td>\n",
       "      <td>-0.068766</td>\n",
       "      <td>1.0</td>\n",
       "      <td>0.500000</td>\n",
       "      <td>0.000000</td>\n",
       "      <td>0.500000</td>\n",
       "      <td>0.500000</td>\n",
       "      <td>...</td>\n",
       "      <td>0.000000</td>\n",
       "      <td>0.000000</td>\n",
       "      <td>0.000000</td>\n",
       "      <td>0.500000</td>\n",
       "      <td>0.500000</td>\n",
       "      <td>0.000000</td>\n",
       "      <td>0.5</td>\n",
       "      <td>0.000000</td>\n",
       "      <td>0.000000</td>\n",
       "      <td>0.000000</td>\n",
       "    </tr>\n",
       "    <tr>\n",
       "      <th>4</th>\n",
       "      <td>SCEL1_1_1_1_0_0_0/101</td>\n",
       "      <td>1</td>\n",
       "      <td>0.500000</td>\n",
       "      <td>-0.08761127</td>\n",
       "      <td>-0.077558</td>\n",
       "      <td>1.0</td>\n",
       "      <td>1.000000</td>\n",
       "      <td>0.000000</td>\n",
       "      <td>0.500000</td>\n",
       "      <td>0.500000</td>\n",
       "      <td>...</td>\n",
       "      <td>0.000000</td>\n",
       "      <td>0.000000</td>\n",
       "      <td>0.000000</td>\n",
       "      <td>0.500000</td>\n",
       "      <td>0.500000</td>\n",
       "      <td>0.000000</td>\n",
       "      <td>0.5</td>\n",
       "      <td>0.000000</td>\n",
       "      <td>0.000000</td>\n",
       "      <td>0.000000</td>\n",
       "    </tr>\n",
       "    <tr>\n",
       "      <th>...</th>\n",
       "      <td>...</td>\n",
       "      <td>...</td>\n",
       "      <td>...</td>\n",
       "      <td>...</td>\n",
       "      <td>...</td>\n",
       "      <td>...</td>\n",
       "      <td>...</td>\n",
       "      <td>...</td>\n",
       "      <td>...</td>\n",
       "      <td>...</td>\n",
       "      <td>...</td>\n",
       "      <td>...</td>\n",
       "      <td>...</td>\n",
       "      <td>...</td>\n",
       "      <td>...</td>\n",
       "      <td>...</td>\n",
       "      <td>...</td>\n",
       "      <td>...</td>\n",
       "      <td>...</td>\n",
       "      <td>...</td>\n",
       "      <td>...</td>\n",
       "    </tr>\n",
       "    <tr>\n",
       "      <th>58160</th>\n",
       "      <td>SCEL3_3_1_1_0_1_2/995</td>\n",
       "      <td>1</td>\n",
       "      <td>0.291667</td>\n",
       "      <td>unknown</td>\n",
       "      <td>-0.040703</td>\n",
       "      <td>1.0</td>\n",
       "      <td>0.500000</td>\n",
       "      <td>0.833333</td>\n",
       "      <td>0.666667</td>\n",
       "      <td>0.833333</td>\n",
       "      <td>...</td>\n",
       "      <td>0.055556</td>\n",
       "      <td>0.166667</td>\n",
       "      <td>0.333333</td>\n",
       "      <td>0.333333</td>\n",
       "      <td>0.166667</td>\n",
       "      <td>0.166667</td>\n",
       "      <td>0.0</td>\n",
       "      <td>0.000000</td>\n",
       "      <td>0.166667</td>\n",
       "      <td>0.166667</td>\n",
       "    </tr>\n",
       "    <tr>\n",
       "      <th>58161</th>\n",
       "      <td>SCEL3_3_1_1_0_1_2/996</td>\n",
       "      <td>1</td>\n",
       "      <td>0.458333</td>\n",
       "      <td>unknown</td>\n",
       "      <td>-0.064093</td>\n",
       "      <td>1.0</td>\n",
       "      <td>0.500000</td>\n",
       "      <td>0.666667</td>\n",
       "      <td>0.500000</td>\n",
       "      <td>0.500000</td>\n",
       "      <td>...</td>\n",
       "      <td>0.055556</td>\n",
       "      <td>0.166667</td>\n",
       "      <td>0.000000</td>\n",
       "      <td>0.000000</td>\n",
       "      <td>0.055556</td>\n",
       "      <td>0.000000</td>\n",
       "      <td>0.0</td>\n",
       "      <td>0.000000</td>\n",
       "      <td>0.000000</td>\n",
       "      <td>0.000000</td>\n",
       "    </tr>\n",
       "    <tr>\n",
       "      <th>58162</th>\n",
       "      <td>SCEL3_3_1_1_0_1_2/997</td>\n",
       "      <td>1</td>\n",
       "      <td>0.375000</td>\n",
       "      <td>unknown</td>\n",
       "      <td>-0.053905</td>\n",
       "      <td>1.0</td>\n",
       "      <td>0.500000</td>\n",
       "      <td>0.666667</td>\n",
       "      <td>0.666667</td>\n",
       "      <td>0.666667</td>\n",
       "      <td>...</td>\n",
       "      <td>0.055556</td>\n",
       "      <td>0.111111</td>\n",
       "      <td>0.000000</td>\n",
       "      <td>0.333333</td>\n",
       "      <td>0.166667</td>\n",
       "      <td>0.000000</td>\n",
       "      <td>0.0</td>\n",
       "      <td>0.111111</td>\n",
       "      <td>0.111111</td>\n",
       "      <td>0.111111</td>\n",
       "    </tr>\n",
       "    <tr>\n",
       "      <th>58163</th>\n",
       "      <td>SCEL3_3_1_1_0_1_2/998</td>\n",
       "      <td>1</td>\n",
       "      <td>0.458333</td>\n",
       "      <td>unknown</td>\n",
       "      <td>-0.046311</td>\n",
       "      <td>1.0</td>\n",
       "      <td>0.666667</td>\n",
       "      <td>0.500000</td>\n",
       "      <td>0.500000</td>\n",
       "      <td>0.500000</td>\n",
       "      <td>...</td>\n",
       "      <td>0.055556</td>\n",
       "      <td>0.000000</td>\n",
       "      <td>0.000000</td>\n",
       "      <td>0.000000</td>\n",
       "      <td>0.055556</td>\n",
       "      <td>0.000000</td>\n",
       "      <td>0.0</td>\n",
       "      <td>0.000000</td>\n",
       "      <td>0.055556</td>\n",
       "      <td>0.055556</td>\n",
       "    </tr>\n",
       "    <tr>\n",
       "      <th>58164</th>\n",
       "      <td>SCEL3_3_1_1_0_1_2/999</td>\n",
       "      <td>1</td>\n",
       "      <td>0.583333</td>\n",
       "      <td>unknown</td>\n",
       "      <td>-0.102643</td>\n",
       "      <td>1.0</td>\n",
       "      <td>0.500000</td>\n",
       "      <td>0.666667</td>\n",
       "      <td>0.000000</td>\n",
       "      <td>0.500000</td>\n",
       "      <td>...</td>\n",
       "      <td>0.055556</td>\n",
       "      <td>0.000000</td>\n",
       "      <td>0.000000</td>\n",
       "      <td>0.000000</td>\n",
       "      <td>0.000000</td>\n",
       "      <td>0.000000</td>\n",
       "      <td>0.0</td>\n",
       "      <td>0.000000</td>\n",
       "      <td>0.000000</td>\n",
       "      <td>0.000000</td>\n",
       "    </tr>\n",
       "  </tbody>\n",
       "</table>\n",
       "<p>58165 rows × 253 columns</p>\n",
       "</div>"
      ],
      "text/plain": [
       "                  configname  selected   comp(a) formation_energy    clex()  \\\n",
       "0        SCEL1_1_1_1_0_0_0/0         1  1.000000       0.00000000  0.000000   \n",
       "1        SCEL1_1_1_1_0_0_0/1         1  0.875000      -0.03401745 -0.035452   \n",
       "2       SCEL1_1_1_1_0_0_0/10         1  0.625000      -0.08774064 -0.085923   \n",
       "3      SCEL1_1_1_1_0_0_0/100         1  0.625000      -0.06716164 -0.068766   \n",
       "4      SCEL1_1_1_1_0_0_0/101         1  0.500000      -0.08761127 -0.077558   \n",
       "...                      ...       ...       ...              ...       ...   \n",
       "58160  SCEL3_3_1_1_0_1_2/995         1  0.291667          unknown -0.040703   \n",
       "58161  SCEL3_3_1_1_0_1_2/996         1  0.458333          unknown -0.064093   \n",
       "58162  SCEL3_3_1_1_0_1_2/997         1  0.375000          unknown -0.053905   \n",
       "58163  SCEL3_3_1_1_0_1_2/998         1  0.458333          unknown -0.046311   \n",
       "58164  SCEL3_3_1_1_0_1_2/999         1  0.583333          unknown -0.102643   \n",
       "\n",
       "       corr(0)   corr(1)   corr(2)   corr(3)   corr(4)  ...  corr(238)  \\\n",
       "0          1.0  0.000000  0.000000  0.000000  0.000000  ...   0.000000   \n",
       "1          1.0  0.000000  0.000000  0.000000  0.500000  ...   0.000000   \n",
       "2          1.0  0.500000  0.500000  0.000000  0.500000  ...   0.500000   \n",
       "3          1.0  0.500000  0.000000  0.500000  0.500000  ...   0.000000   \n",
       "4          1.0  1.000000  0.000000  0.500000  0.500000  ...   0.000000   \n",
       "...        ...       ...       ...       ...       ...  ...        ...   \n",
       "58160      1.0  0.500000  0.833333  0.666667  0.833333  ...   0.055556   \n",
       "58161      1.0  0.500000  0.666667  0.500000  0.500000  ...   0.055556   \n",
       "58162      1.0  0.500000  0.666667  0.666667  0.666667  ...   0.055556   \n",
       "58163      1.0  0.666667  0.500000  0.500000  0.500000  ...   0.055556   \n",
       "58164      1.0  0.500000  0.666667  0.000000  0.500000  ...   0.055556   \n",
       "\n",
       "       corr(239)  corr(240)  corr(241)  corr(242)  corr(243)  corr(244)  \\\n",
       "0       0.000000   0.000000   0.000000   0.000000   0.000000        0.0   \n",
       "1       0.000000   0.000000   0.000000   0.000000   0.000000        0.0   \n",
       "2       0.000000   0.000000   0.000000   0.000000   0.000000        0.0   \n",
       "3       0.000000   0.000000   0.500000   0.500000   0.000000        0.5   \n",
       "4       0.000000   0.000000   0.500000   0.500000   0.000000        0.5   \n",
       "...          ...        ...        ...        ...        ...        ...   \n",
       "58160   0.166667   0.333333   0.333333   0.166667   0.166667        0.0   \n",
       "58161   0.166667   0.000000   0.000000   0.055556   0.000000        0.0   \n",
       "58162   0.111111   0.000000   0.333333   0.166667   0.000000        0.0   \n",
       "58163   0.000000   0.000000   0.000000   0.055556   0.000000        0.0   \n",
       "58164   0.000000   0.000000   0.000000   0.000000   0.000000        0.0   \n",
       "\n",
       "       corr(245)  corr(246)  corr(247)  \n",
       "0       0.000000   0.000000   0.000000  \n",
       "1       0.000000   0.000000   0.000000  \n",
       "2       0.000000   0.000000   0.000000  \n",
       "3       0.000000   0.000000   0.000000  \n",
       "4       0.000000   0.000000   0.000000  \n",
       "...          ...        ...        ...  \n",
       "58160   0.000000   0.166667   0.166667  \n",
       "58161   0.000000   0.000000   0.000000  \n",
       "58162   0.111111   0.111111   0.111111  \n",
       "58163   0.000000   0.055556   0.055556  \n",
       "58164   0.000000   0.000000   0.000000  \n",
       "\n",
       "[58165 rows x 253 columns]"
      ]
     },
     "execution_count": 7,
     "metadata": {},
     "output_type": "execute_result"
    }
   ],
   "source": [
    "data"
   ]
  },
  {
   "cell_type": "code",
   "execution_count": 8,
   "metadata": {},
   "outputs": [],
   "source": [
    "# get convex hull \n",
    "my_hull = my_hull_funcs(X_data_all,Y_data_all)\n",
    "my_hull.get_bottom_hull()\n",
    "true_convex_hull, true_convex_hull_index = my_hull.bt_hull_points, my_hull.bt_hull_vertices\n",
    "hull_function = my_hull.bt_hull_facets\n",
    "my_hull.shoelace_area()"
   ]
  },
  {
   "cell_type": "code",
   "execution_count": 9,
   "metadata": {},
   "outputs": [],
   "source": [
    "random.seed(101)\n",
    "#Number of initial data pool (user)\n",
    "N_init = 30\n",
    "init_idxs = random.sample(range(len(data)),N_init)\n",
    "#init_idxs = random.sample(range(399),N_init)\n",
    "\n",
    "if data[data['comp(a)']==0].index[0] not in init_idxs:\n",
    "    init_idxs.append(data[data['comp(a)']==0].index[0])\n",
    "if data[data['comp(a)']==1].index[0] not in init_idxs:\n",
    "    init_idxs.append(data[data['comp(a)']==1].index[0])"
   ]
  },
  {
   "cell_type": "code",
   "execution_count": null,
   "metadata": {},
   "outputs": [],
   "source": []
  },
  {
   "cell_type": "code",
   "execution_count": 10,
   "metadata": {},
   "outputs": [],
   "source": [
    "# start making inputs for GPyOpt\n",
    "# Y property for training/prediction\n",
    "Y_name = 'clex()' \n",
    "# training pool\n",
    "N_train = len(init_idxs)\n",
    "train_index = init_idxs\n",
    "# design pool\n",
    "N_design = len(data)\n",
    "design_index = (range(len(data)))\n",
    "# corrs \n",
    "num_corrs = sum('corr' in s for s in data.columns)\n",
    "selected_corrs = np.ones(num_corrs) # all correlation functions\n",
    "# set_pool make the training pool and design pool according to the above settings\n",
    "my_pool = set_pool(data,train_index,design_index,selected_corrs,Y_name,ternary=False)"
   ]
  },
  {
   "cell_type": "code",
   "execution_count": 11,
   "metadata": {},
   "outputs": [
    {
     "data": {
      "text/plain": [
       "248"
      ]
     },
     "execution_count": 11,
     "metadata": {},
     "output_type": "execute_result"
    }
   ],
   "source": [
    "len(my_pool.train_X[0])"
   ]
  },
  {
   "cell_type": "code",
   "execution_count": 12,
   "metadata": {},
   "outputs": [
    {
     "data": {
      "image/png": "[encoded data removed]",
      "text/plain": [
       "<Figure size 432x288 with 1 Axes>"
      ]
     },
     "metadata": {
      "needs_background": "light"
     },
     "output_type": "display_data"
    }
   ],
   "source": [
    "# interactive plot calculated\n",
    "# visualization of the DFT hull \n",
    "\n",
    "\n",
    "plt.scatter(data['comp(a)']*100, data['clex()']*1000/8)\n",
    "plt.scatter( my_pool.train_comp*100, my_pool.train_Y*1000/8)\n",
    "hull_x_grid = np.linspace(0,1,100)\n",
    "plt.scatter(hull_x_grid*100,my_hull.bt_hull_facets(hull_x_grid)*1000/8)\n",
    "#fig.add_scatter(x = hull_x_grid*100,y = my_Af.predicted_hull.bt_hull_facets(hull_x_grid)*1000/8)\n",
    "#plt.scatter(hull_x_grid*100,known_hull.bt_hull_facets(hull_x_grid)*1000/8)\n",
    "plt.show()"
   ]
  },
  {
   "cell_type": "code",
   "execution_count": null,
   "metadata": {},
   "outputs": [],
   "source": []
  },
  {
   "cell_type": "code",
   "execution_count": 13,
   "metadata": {},
   "outputs": [],
   "source": [
    "# remind properties inside my_pool\n",
    "'''\n",
    "my_pool.train_X\n",
    "my_pool.train_Y \n",
    "my_pool.train_comp\n",
    "my_pool.design_X\n",
    "my_pool.design_comp\n",
    "'''\n",
    "## define some parameters for fitting\n",
    "max_iteration = 10\n",
    "tolerance = 1e-3\n",
    "fixed_noise=1e-6\n",
    "\n"
   ]
  },
  {
   "cell_type": "code",
   "execution_count": 14,
   "metadata": {},
   "outputs": [],
   "source": [
    "# remind the initial training data pool \n",
    "X_train = my_pool.train_X\n",
    "Y_train = my_pool.train_Y_nd\n",
    "done_experiments_id_list = [x for x in my_pool.train_index]\n",
    "# remind the design data pool\n",
    "X_design = my_pool.design_X\n",
    "#design_idxs\n",
    "# remind the formation energy calculation from the ECIs\n",
    "#eci_list\n",
    "#CE_formation_energy\n",
    "# \n",
    "# \n",
    "# remind the true ground state line\n",
    "true_convex_hull_X = data['comp(a)'][true_convex_hull_index]\n",
    "true_convex_hull_Y = data['clex()'][true_convex_hull_index]\n",
    "X_list = np.linspace(0,1,100)"
   ]
  },
  {
   "cell_type": "code",
   "execution_count": null,
   "metadata": {},
   "outputs": [],
   "source": []
  },
  {
   "cell_type": "code",
   "execution_count": 15,
   "metadata": {},
   "outputs": [],
   "source": [
    "GPModelClass=GPy.models.GPRegression"
   ]
  },
  {
   "cell_type": "code",
   "execution_count": 16,
   "metadata": {},
   "outputs": [
    {
     "data": {
      "text/plain": [
       "[<paramz.optimization.optimization.opt_lbfgsb at 0x7f7b39173150>,\n",
       " <paramz.optimization.optimization.opt_lbfgsb at 0x7f7b39173cd0>,\n",
       " <paramz.optimization.optimization.opt_lbfgsb at 0x7f7b38fe8190>,\n",
       " <paramz.optimization.optimization.opt_lbfgsb at 0x7f7b39173d10>,\n",
       " <paramz.optimization.optimization.opt_lbfgsb at 0x7f7b58715350>,\n",
       " <paramz.optimization.optimization.opt_lbfgsb at 0x7f7b5d6b0d10>,\n",
       " <paramz.optimization.optimization.opt_lbfgsb at 0x7f7b5e048d50>,\n",
       " <paramz.optimization.optimization.opt_lbfgsb at 0x7f7b5e048b50>,\n",
       " <paramz.optimization.optimization.opt_lbfgsb at 0x7f7b5dd24b50>,\n",
       " <paramz.optimization.optimization.opt_lbfgsb at 0x7f7b39258510>,\n",
       " <paramz.optimization.optimization.opt_lbfgsb at 0x7f7b5df19fd0>,\n",
       " <paramz.optimization.optimization.opt_lbfgsb at 0x7f7b5df0eb90>,\n",
       " <paramz.optimization.optimization.opt_lbfgsb at 0x7f7b391169d0>,\n",
       " <paramz.optimization.optimization.opt_lbfgsb at 0x7f7b39173ad0>,\n",
       " <paramz.optimization.optimization.opt_lbfgsb at 0x7f7b39173a10>,\n",
       " <paramz.optimization.optimization.opt_lbfgsb at 0x7f7b7841b710>,\n",
       " <paramz.optimization.optimization.opt_lbfgsb at 0x7f7b7841bd90>,\n",
       " <paramz.optimization.optimization.opt_lbfgsb at 0x7f7b68415c10>,\n",
       " <paramz.optimization.optimization.opt_lbfgsb at 0x7f7b68415950>,\n",
       " <paramz.optimization.optimization.opt_lbfgsb at 0x7f7b68415910>]"
      ]
     },
     "execution_count": 16,
     "metadata": {},
     "output_type": "execute_result"
    }
   ],
   "source": [
    "kernel = GPy.kern.RBF(X_train.shape[1], ARD=True)\n",
    "model = GPModelClass(X_train, Y_train, kernel)\n",
    "model.Gaussian_noise.variance.constrain_fixed(fixed_noise)\n",
    "model.optimize_restarts(20, verbose=False)"
   ]
  },
  {
   "cell_type": "code",
   "execution_count": 19,
   "metadata": {},
   "outputs": [
    {
     "data": {
      "text/plain": [
       "\u001b[0;31mInit signature:\u001b[0m\n",
       "\u001b[0mEI_below_hull\u001b[0m\u001b[0;34m(\u001b[0m\u001b[0;34m\u001b[0m\n",
       "\u001b[0;34m\u001b[0m    \u001b[0mdesign_X\u001b[0m\u001b[0;34m,\u001b[0m\u001b[0;34m\u001b[0m\n",
       "\u001b[0;34m\u001b[0m    \u001b[0mdesign_comp\u001b[0m\u001b[0;34m,\u001b[0m\u001b[0;34m\u001b[0m\n",
       "\u001b[0;34m\u001b[0m    \u001b[0mmodel\u001b[0m\u001b[0;34m,\u001b[0m\u001b[0;34m\u001b[0m\n",
       "\u001b[0;34m\u001b[0m    \u001b[0mhull_function\u001b[0m\u001b[0;34m,\u001b[0m\u001b[0;34m\u001b[0m\n",
       "\u001b[0;34m\u001b[0m    \u001b[0mxi\u001b[0m\u001b[0;34m=\u001b[0m\u001b[0;36m0.0\u001b[0m\u001b[0;34m,\u001b[0m\u001b[0;34m\u001b[0m\n",
       "\u001b[0;34m\u001b[0m    \u001b[0mmode\u001b[0m\u001b[0;34m=\u001b[0m\u001b[0;34m'min'\u001b[0m\u001b[0;34m,\u001b[0m\u001b[0;34m\u001b[0m\n",
       "\u001b[0;34m\u001b[0m\u001b[0;34m)\u001b[0m\u001b[0;34m\u001b[0m\u001b[0;34m\u001b[0m\u001b[0m\n",
       "\u001b[0;31mDocstring:\u001b[0m      <no docstring>\n",
       "\u001b[0;31mInit docstring:\u001b[0m\n",
       "Compute the Expected Improvement at (X_i, comp_i). \n",
       "\n",
       "design_X: Compositions of the training data set\n",
       "\n",
       "design_comp: Compositions of the design data set\n",
       "\n",
       "model: BG.regression\n",
       "\n",
       "mode: minimize or maximize the current Y profile, default is min\n",
       "\n",
       "xi: parameter for EI, read Brochu's paper for details, a safe value of 0.0 is good\n",
       "\u001b[0;31mFile:\u001b[0m           /opt/anaconda3/lib/python3.7/site-packages/bgotools/my_acquisitions.py\n",
       "\u001b[0;31mType:\u001b[0m           type\n",
       "\u001b[0;31mSubclasses:\u001b[0m     \n"
      ]
     },
     "metadata": {},
     "output_type": "display_data"
    }
   ],
   "source": [
    "EI_below_hull?"
   ]
  },
  {
   "cell_type": "code",
   "execution_count": 17,
   "metadata": {},
   "outputs": [],
   "source": [
    "known_hull = my_hull_funcs(my_pool.train_comp,my_pool.train_Y)\n",
    "known_hull.get_bottom_hull()\n",
    "known_hull.shoelace_area()"
   ]
  },
  {
   "cell_type": "code",
   "execution_count": 20,
   "metadata": {},
   "outputs": [],
   "source": [
    "my_Af = EI_below_hull(my_pool.design_X,\n",
    "                     my_pool.design_comp,\n",
    "                     model,\n",
    "                     my_hull.bt_hull_facets)"
   ]
  },
  {
   "cell_type": "code",
   "execution_count": 21,
   "metadata": {},
   "outputs": [],
   "source": [
    "#my_Af.predicted_hull_configs"
   ]
  },
  {
   "cell_type": "code",
   "execution_count": 22,
   "metadata": {},
   "outputs": [
    {
     "data": {
      "text/plain": [
       "array([0.0004464, 0.       , 0.       , ..., 0.       , 0.       ,\n",
       "       0.       ])"
      ]
     },
     "execution_count": 22,
     "metadata": {},
     "output_type": "execute_result"
    }
   ],
   "source": [
    "my_Af.EI()"
   ]
  },
  {
   "cell_type": "code",
   "execution_count": null,
   "metadata": {},
   "outputs": [],
   "source": []
  },
  {
   "cell_type": "code",
   "execution_count": null,
   "metadata": {},
   "outputs": [],
   "source": []
  },
  {
   "cell_type": "code",
   "execution_count": 26,
   "metadata": {},
   "outputs": [],
   "source": [
    "train_index_update = my_pool.train_index"
   ]
  },
  {
   "cell_type": "code",
   "execution_count": null,
   "metadata": {},
   "outputs": [],
   "source": []
  },
  {
   "cell_type": "code",
   "execution_count": null,
   "metadata": {},
   "outputs": [],
   "source": []
  },
  {
   "cell_type": "code",
   "execution_count": 27,
   "metadata": {},
   "outputs": [
    {
     "name": "stdout",
     "output_type": "stream",
     "text": [
      "32 32\n"
     ]
    }
   ],
   "source": [
    "#start iterations from here\n",
    "train_index_update = train_index\n",
    "my_pool_update = set_pool(data,train_index,design_index,selected_corrs,Y_name,ternary=False)\n",
    "print(len(my_pool_update.train_comp),len(my_pool_update.train_Y))\n",
    "saved_model_list = []\n",
    "next_experiment_id_list = []\n",
    "next_experiment_idxs_list_non_duplicated = []\n",
    "af_max_ei_list = []\n",
    "af_ei_list = []\n",
    "# Af_evolve documents all the Af/EI for all iterations\n",
    "# in an Af of one iteration, we can get \n",
    "# 1. EI of hull\n",
    "# 2. predicted area\n",
    "# 3. predicted mean/variance of configurations\n",
    "# 4. predicted hull -> all configurations\n",
    "# 5. predicted hull subsets -> combinations\n",
    "# 6. predicted hull functions -> for plotting the hull\n",
    "\n",
    "Af_evolve = []\n"
   ]
  },
  {
   "cell_type": "code",
   "execution_count": 28,
   "metadata": {
    "tags": []
   },
   "outputs": [],
   "source": [
    "max_iterations = 6"
   ]
  },
  {
   "cell_type": "code",
   "execution_count": 29,
   "metadata": {},
   "outputs": [
    {
     "name": "stdout",
     "output_type": "stream",
     "text": [
      "> Iteration: 0\n",
      "Number of data points observed: 32\n",
      "Selected Structures: [23, 51719, 51464, 54356, 51808]\n",
      "Max EI = 1.0\n",
      "Min Energy Observed: -0.12928084\n",
      "> Iteration: 1\n",
      "Number of data points observed: 37\n",
      "Selected Structures: [57083, 55088, 30197, 33644, 17204]\n",
      "Max EI = 0.6902588796753478\n",
      "Min Energy Observed: -0.12928084\n",
      "> Iteration: 2\n",
      "Number of data points observed: 42\n",
      "Selected Structures: [21, 12625, 54065, 12576, 125]\n",
      "Max EI = 0.5752276316894457\n",
      "Min Energy Observed: -0.14596631\n",
      "> Iteration: 3\n",
      "Number of data points observed: 47\n",
      "Selected Structures: [23471, 39911, 51841, 30, 7031]\n",
      "Max EI = 0.2801161989362959\n",
      "Min Energy Observed: -0.14596631\n",
      "> Iteration: 4\n",
      "Number of data points observed: 52\n",
      "Selected Structures: [54287, 54176, 51819, 22207, 38647]\n",
      "Max EI = 0.08868270197003775\n",
      "Min Energy Observed: -0.14596631\n",
      "> Iteration: 5\n",
      "Number of data points observed: 57\n",
      "Selected Structures: [1, 2, 3, 4, 5]\n",
      "Max EI = 0.0032529158916299815\n",
      "Min Energy Observed: -0.14596631\n"
     ]
    }
   ],
   "source": [
    "saved_model_list = []\n",
    "next_experiment_id_list = []\n",
    "next_experiment_idxs_non_duplicated_list = []\n",
    "af_max_ei_list = []\n",
    "af_ei_list = []\n",
    "# Af_evolve documents all the Af/EI for all iterations\n",
    "# in an Af of one iteration, we can get \n",
    "# 1. EI of hull\n",
    "# 2. predicted area\n",
    "# 3. predicted mean/variance of configurations\n",
    "# 4. predicted hull -> all configurations\n",
    "# 5. predicted hull subsets -> combinations\n",
    "# 6. predicted hull functions -> for plotting the hull\n",
    "\n",
    "Af_evolve = []\n",
    "\n",
    "\n",
    "# start optimization \n",
    "#for it in range(max_iteration):\n",
    "for it in range(max_iterations):\n",
    "    print('> Iteration: {}'.format(it))\n",
    "    print('Number of data points observed: {}'.format(len(my_pool_update.train_Y_nd)))\n",
    "    # setup model\n",
    "    kernel = GPy.kern.RBF(my_pool_update.train_X.shape[1], ARD=True)\n",
    "    model = GPModelClass(my_pool_update.train_X, my_pool_update.train_Y_nd, kernel)\n",
    "    if fixed_noise is not None:\n",
    "        model.Gaussian_noise.variance.unconstrain()\n",
    "        model.Gaussian_noise.variance.constrain_fixed(fixed_noise)\n",
    "        \n",
    "    # start fitting\n",
    "    model.optimize_restarts(20, verbose=False)\n",
    "    saved_model_list.append(model)\n",
    "    # fitting finished, get EI\n",
    "    known_hull = my_hull_funcs(my_pool_update.train_comp,my_pool_update.train_Y)\n",
    "    known_hull.get_bottom_hull()\n",
    "    #####\n",
    "    #####\n",
    "    #####\n",
    "    my_Af = EI_below_hull(my_pool_update.design_X,\n",
    "                     my_pool_update.design_comp,\n",
    "                     model,\n",
    "                     known_hull.bt_hull_facets)\n",
    "    \n",
    "    my_Af.EI()\n",
    "    ei = my_Af.ei \n",
    "    i = np.argmax(ei)\n",
    "    af_max_ei0 = ei[i]\n",
    "    Af_evolve.append(my_Af)\n",
    "    af_max_ei_list.append(af_max_ei0)\n",
    "    #####\n",
    "    #####\n",
    "    #####\n",
    "    # rank configurations according to ei and pick a batch from the top\n",
    "    sorted_ei = [sorted(range(len(my_Af.ei)), key=lambda i: my_Af.ei[i],reverse=True)][0]\n",
    "    next_experiment_idxs_non_duplicated = []\n",
    "    \n",
    "    for config in sorted_ei:\n",
    "        if config>sorted_ei[0]/1e5: #\n",
    "            if len(next_experiment_idxs_non_duplicated)<5: # pick a batch of 5\n",
    "                if config not in train_index_update:\n",
    "                    next_experiment_idxs_non_duplicated.append(config)\n",
    "    \n",
    "    #####\n",
    "    #####\n",
    "    #####\n",
    "    \n",
    "    # determine whether next fitting is necessary \n",
    "    if af_max_ei0 / af_max_ei_list[0] <= tolerance:\n",
    "        print('*** Converged (af[i] / afmax0 = {0:1.7f}) < {1:e}'.format(af_max_ei0 / af_max_ei_list[0], tolerance))\n",
    "        \n",
    "    # append predicted configurations to the updating training pool (observations)\n",
    "    train_index_update = train_index_update + next_experiment_idxs_non_duplicated\n",
    "    my_pool_update = set_pool(data,train_index_update,design_index,selected_corrs,Y_name,ternary=False)\n",
    "    next_experiment_idxs_non_duplicated_list.append(next_experiment_idxs_non_duplicated)\n",
    "    print('Selected Structures: {}'.format(next_experiment_idxs_non_duplicated))\n",
    "    \n",
    "    print('Max EI = {}'.format(af_max_ei0 / af_max_ei_list[0]))\n",
    "    print('Min Energy Observed: {}'.format(my_pool_update.train_Y.min()))"
   ]
  },
  {
   "cell_type": "code",
   "execution_count": null,
   "metadata": {},
   "outputs": [],
   "source": []
  },
  {
   "cell_type": "code",
   "execution_count": 35,
   "metadata": {},
   "outputs": [
    {
     "data": {
      "image/png": "[encoded data removed]",
      "text/plain": [
       "<Figure size 432x288 with 1 Axes>"
      ]
     },
     "metadata": {
      "needs_background": "light"
     },
     "output_type": "display_data"
    }
   ],
   "source": [
    "# interactive plot calculated\n",
    "# visualization of the DFT hull \n",
    "my_Af = Af_evolve[2]\n",
    "\n",
    "#plt.scatter(data['comp(a)']*100, data['clex()']*1000/8)\n",
    "#plt.scatter( my_pool.train_comp*100, my_pool.train_Y*1000/8)\n",
    "hull_x_grid = np.linspace(0,1,100)\n",
    "plt.plot(hull_x_grid*100,my_hull.bt_hull_facets(hull_x_grid)*1000/8)\n",
    "\n",
    "plt.scatter(my_Af.design_comp*100,my_Af.predictive_mean*1000/8)\n",
    "#plt.scatter(hull_x_grid*100,known_hull.bt_hull_facets(hull_x_grid)*1000/8)\n",
    "plt.show()"
   ]
  },
  {
   "cell_type": "code",
   "execution_count": null,
   "metadata": {},
   "outputs": [],
   "source": []
  },
  {
   "cell_type": "code",
   "execution_count": null,
   "metadata": {},
   "outputs": [],
   "source": []
  },
  {
   "cell_type": "code",
   "execution_count": null,
   "metadata": {},
   "outputs": [],
   "source": []
  },
  {
   "cell_type": "code",
   "execution_count": null,
   "metadata": {},
   "outputs": [],
   "source": []
  },
  {
   "cell_type": "code",
   "execution_count": null,
   "metadata": {},
   "outputs": [],
   "source": []
  },
  {
   "cell_type": "code",
   "execution_count": null,
   "metadata": {},
   "outputs": [],
   "source": []
  }
 ],
 "metadata": {
  "kernelspec": {
   "display_name": "Python 3 (ipykernel)",
   "language": "python",
   "name": "python3"
  },
  "language_info": {
   "codemirror_mode": {
    "name": "ipython",
    "version": 3
   },
   "file_extension": ".py",
   "mimetype": "text/x-python",
   "name": "python",
   "nbconvert_exporter": "python",
   "pygments_lexer": "ipython3",
   "version": "3.7.12"
  }
 },
 "nbformat": 4,
 "nbformat_minor": 4
}
